{
 "cells": [
  {
   "cell_type": "markdown",
   "id": "42873fea",
   "metadata": {},
   "source": [
    "## 2.5 - Visual Weather Systems CNN"
   ]
  },
  {
   "cell_type": "markdown",
   "id": "1448a731",
   "metadata": {},
   "source": [
    "## Table of Contents\n",
    "\n",
    "#### 1. Importing Libraries\n",
    "#### 2. Loading and Pre-processing Weather Images\n",
    "#### 3. Compiling and Running\n",
    "#### 4. Results\n",
    "#### 5. Bonus Task"
   ]
  },
  {
   "cell_type": "markdown",
   "id": "25c41ea4",
   "metadata": {},
   "source": [
    "## 1. Importing Libraries"
   ]
  },
  {
   "cell_type": "code",
   "execution_count": null,
   "id": "04d1c060",
   "metadata": {},
   "outputs": [],
   "source": [
    "import pandas as pd\n",
    "import numpy as np\n",
    "import seaborn as sns\n",
    "import os\n",
    "import operator\n",
    "import matplotlib.pyplot as plt\n",
    "import tensorflow as tf\n",
    "from keras import Input\n",
    "from keras.models import Sequential\n",
    "from keras.models import Model\n",
    "from keras.layers import Conv1D, Conv2D, Dense, Dropout, BatchNormalization, Flatten, MaxPooling2D, Activation\n",
    "from tensorflow.keras.utils import to_categorical\n",
    "from tensorflow.keras.preprocessing.image import ImageDataGenerator\n",
    "from sklearn.metrics import confusion_matrix, accuracy_score, ConfusionMatrixDisplay"
   ]
  },
  {
   "cell_type": "code",
   "execution_count": null,
   "id": "ad0a57b6",
   "metadata": {},
   "outputs": [],
   "source": [
    "import keras\n",
    "import tensorflow as tf\n",
    "print(f\"Keras version: {keras.__version__}\")\n",
    "print(f\"TensorFlow version: {tf.__version__}\")"
   ]
  },
  {
   "cell_type": "markdown",
   "id": "77e9d58e",
   "metadata": {},
   "source": [
    "## 2. Loading and Pre-processing Weather Images"
   ]
  },
  {
   "cell_type": "code",
   "execution_count": null,
   "id": "6248180c",
   "metadata": {},
   "outputs": [],
   "source": [
    "# Download the weather images and put them in a directory\n",
    "\n",
    "path = r'/Users/giadairene/Documents/CareerFoundry Data Analytics/Machine Learning with Python/ClimateWins/02 Data/Prepared/Weather'\n",
    "folders = os.listdir(path)\n",
    "print(folders)"
   ]
  },
  {
   "cell_type": "code",
   "execution_count": null,
   "id": "6a39c1c2",
   "metadata": {},
   "outputs": [],
   "source": [
    "# This will load in the pictures and rescale them to 250x250pixels\n",
    "\n",
    "datagenerator = ImageDataGenerator(rescale=1/255, validation_split=0.2)\n",
    "train_generator = datagenerator.flow_from_directory(\n",
    "    path,\n",
    "    target_size=(250 , 250),\n",
    "    batch_size=12,\n",
    "    subset='training',\n",
    ")\n",
    "\n",
    "test_generator = datagenerator.flow_from_directory(\n",
    "    path,\n",
    "    target_size=(250 , 250),\n",
    "    batch_size=12,\n",
    "    subset='validation',\n",
    ")"
   ]
  },
  {
   "cell_type": "code",
   "execution_count": null,
   "id": "ec8eb912",
   "metadata": {},
   "outputs": [],
   "source": [
    "# This is a CNN to categorize the weather images\n",
    "\n",
    "inputs = Input(shape=(250, 250, 3))\n",
    "\n",
    "x = Conv2D(32, (5,5), activation = 'relu')(inputs)\n",
    "x = MaxPooling2D(3,3)(x)\n",
    "x = Conv2D(64, (5,5) , activation = 'relu')(x)\n",
    "x = MaxPooling2D((3,3))(x)\n",
    "x = Conv2D(128 , (5,5) , activation = 'relu')(x)\n",
    "x = MaxPooling2D(3,3)(x)\n",
    "x = Flatten()(x)\n",
    "x = Dropout(0.5, seed = 5)(x)\n",
    "x = Dense(128 , activation = 'relu')(x)\n",
    "\n",
    "outputs = Dense(4, activation = 'softmax')(x)\n",
    "\n",
    "model:Model = Model(inputs=inputs, outputs=outputs)"
   ]
  },
  {
   "cell_type": "markdown",
   "id": "e0b77fbe",
   "metadata": {},
   "source": [
    "## 3. Compiling and Runnning"
   ]
  },
  {
   "cell_type": "code",
   "execution_count": null,
   "id": "b4506d04",
   "metadata": {},
   "outputs": [],
   "source": [
    "# How many epochs are required to generate an accurate model?\n",
    "\n",
    "model.compile(optimizer=\"Adam\", loss=\"mean_squared_error\", metrics=[\"accuracy\"])\n",
    "model.fit(\n",
    "    train_generator, \n",
    "    epochs = 16,\n",
    "    steps_per_epoch = train_generator.n // train_generator.batch_size,\n",
    "    validation_data = test_generator,\n",
    "    validation_steps = test_generator.n // test_generator.batch_size,\n",
    ")"
   ]
  },
  {
   "cell_type": "markdown",
   "id": "f124675a",
   "metadata": {},
   "source": [
    "## 4. Results"
   ]
  },
  {
   "cell_type": "code",
   "execution_count": null,
   "id": "4e549d71",
   "metadata": {},
   "outputs": [],
   "source": [
    "results = pd.DataFrame(model.history.history)"
   ]
  },
  {
   "cell_type": "code",
   "execution_count": null,
   "id": "9c90983b",
   "metadata": {},
   "outputs": [],
   "source": [
    "results = pd.DataFrame(model.history.history)results[['loss','val_loss']].plot(title='Model Loss')\n",
    "plt.savefig('./loss.png')"
   ]
  },
  {
   "cell_type": "code",
   "execution_count": null,
   "id": "b48751cd",
   "metadata": {},
   "outputs": [],
   "source": [
    "results[['accuracy','val_accuracy']].plot(title='Model Acurracy')\n",
    "plt.savefig('./accuracy.png')"
   ]
  },
  {
   "cell_type": "code",
   "execution_count": null,
   "id": "d8e75e58",
   "metadata": {},
   "outputs": [],
   "source": [
    "# Print the accuracy and loss\n",
    "print(\"Accuracy: {}, Val_Accuracy: {}\".format(results['accuracy'].iloc[-1], results['val_accuracy'].iloc[-1]))\n",
    "print(\"Loss: {}, Val_Loss: {}\".format(results['loss'].iloc[-1], results['val_loss'].iloc[-1]))"
   ]
  },
  {
   "cell_type": "code",
   "execution_count": null,
   "id": "2749d843",
   "metadata": {},
   "outputs": [],
   "source": [
    "# Collect n batches of images and display the confusion matrix for them.\n",
    "\n",
    "class_names = ['Cloudy', 'Rain', 'Shine', 'Sunrise']\n",
    "n = 16 #<--you can change the number of batches selected.\n",
    "\n",
    "image_batch, classes_batch = next(test_generator)\n",
    "\n",
    "for batch in range(n):\n",
    "    temp = next(test_generator)\n",
    "    image_batch = np.concatenate((image_batch, temp[0]))\n",
    "    classes_batch = np.concatenate((classes_batch, temp[1]))\n",
    "\n",
    "classes_batch = classes_batch\n",
    "y_predict = model.predict(image_batch)\n",
    "\n",
    "# Confusion matrix for training data\n",
    "cm = confusion_matrix(y_pred = [np.argmax(x) for x in y_predict], y_true = [np.argmax(x) for x in classes_batch])\n",
    "disp = ConfusionMatrixDisplay(confusion_matrix=cm)\n",
    "disp.plot()\n",
    "plt.show()"
   ]
  },
  {
   "cell_type": "code",
   "execution_count": null,
   "id": "fd781ff9",
   "metadata": {},
   "outputs": [],
   "source": [
    "# This function will display a number of random images as well as the predictions for the type of weather.\n",
    "\n",
    "def predict_one(model, num_images = None):  \n",
    "    image_batch, classes_batch = next(test_generator)\n",
    "    predicted_batch = model.predict(image_batch)\n",
    "    for k in range(0,image_batch.shape[0] if num_images is None else num_images):\n",
    "        image = image_batch[k]\n",
    "        real_class = class_names[np.argmax(classes_batch[k])]\n",
    "        predicted_class = class_names[np.argmax(predicted_batch[k])]\n",
    "        value_predicted = predicted_batch[k]\n",
    "        isTrue = (real_class == predicted_class)\n",
    "        plt.figure(k)\n",
    "        plt.title(str(\"Correct Prediction\" if isTrue else \"Incorrect Prediction\") + ' - class: ' + real_class + ' - ' + 'predicted: ' + predicted_class + str(value_predicted))\n",
    "        plt.axis('off')\n",
    "        plt.savefig('./' + real_class + '_' + predicted_class + '_' + str(value_predicted) + '.png')\n",
    "        plt.imshow(image)"
   ]
  },
  {
   "cell_type": "code",
   "execution_count": null,
   "id": "63a5c285",
   "metadata": {},
   "outputs": [],
   "source": [
    "predict_one(model, 6) #<--you can show multiple pictures with this command. Just fill in the number you want to see."
   ]
  }
 ],
 "metadata": {
  "kernelspec": {
   "display_name": "Python 3 (ipykernel)",
   "language": "python",
   "name": "python3"
  },
  "language_info": {
   "codemirror_mode": {
    "name": "ipython",
    "version": 3
   },
   "file_extension": ".py",
   "mimetype": "text/x-python",
   "name": "python",
   "nbconvert_exporter": "python",
   "pygments_lexer": "ipython3",
   "version": "3.9.7"
  }
 },
 "nbformat": 4,
 "nbformat_minor": 5
}
